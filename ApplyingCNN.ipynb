{
 "cells": [
  {
   "cell_type": "code",
   "execution_count": 1,
   "metadata": {},
   "outputs": [],
   "source": [
    "import tensorflow as tf\n",
    "from tensorflow.keras.models import Sequential\n",
    "from tensorflow.keras.layers import Activation, Conv2D, MaxPooling2D, Dense, Dropout, Flatten\n",
    "from tensorflow.keras.callbacks import TensorBoard, ModelCheckpoint\n",
    "import pickle\n",
    "import numpy as np\n",
    "import time\n",
    "import matplotlib.pyplot as plt"
   ]
  },
  {
   "cell_type": "code",
   "execution_count": 2,
   "metadata": {},
   "outputs": [],
   "source": [
    "model_name=f'B-vs-M-64x2-{int(time.time())}'"
   ]
  },
  {
   "cell_type": "code",
   "execution_count": 3,
   "metadata": {},
   "outputs": [],
   "source": [
    "#tensorboard=TensorBoard(log_dir=f'logs/{model_name}')\n",
    "checkpoint=ModelCheckpoint(model_name+'.h5',monitor='val_loss',verbose=2,save_best_only=True)"
   ]
  },
  {
   "cell_type": "code",
   "execution_count": 4,
   "metadata": {},
   "outputs": [],
   "source": [
    "# Loading the data\n",
    "x=pickle.load(open('x.pickle','rb')) #loading the images\n",
    "y=pickle.load(open('y.pickle','rb')) #loading their labels\n",
    "x=np.array(x/255.0)# Normalizing the image data\n",
    "y=np.array(y)"
   ]
  },
  {
   "cell_type": "code",
   "execution_count": 5,
   "metadata": {},
   "outputs": [],
   "source": [
    "model=Sequential()"
   ]
  },
  {
   "cell_type": "code",
   "execution_count": 6,
   "metadata": {},
   "outputs": [],
   "source": [
    "# Creating 1st hidden layer\n",
    "model.add(Conv2D(64,(3,3),input_shape=x.shape[1:]))\n",
    "model.add(Activation('relu'))\n",
    "model.add(MaxPooling2D(pool_size=(2,2)))"
   ]
  },
  {
   "cell_type": "code",
   "execution_count": 7,
   "metadata": {},
   "outputs": [],
   "source": [
    "# Creating 2nd hidden layer\n",
    "model.add(Conv2D(64,(3,3)))\n",
    "model.add(Activation('relu'))\n",
    "model.add(MaxPooling2D(pool_size=(2,2)))"
   ]
  },
  {
   "cell_type": "code",
   "execution_count": 8,
   "metadata": {},
   "outputs": [],
   "source": [
    "#Flattening the image data\n",
    "model.add(Flatten())\n",
    "model.add(Dense(64))\n",
    "model.add(Activation('relu'))"
   ]
  },
  {
   "cell_type": "code",
   "execution_count": 9,
   "metadata": {},
   "outputs": [],
   "source": [
    "#Output Layer\n",
    "model.add(Dense(1))\n",
    "model.add(Activation('sigmoid'))"
   ]
  },
  {
   "cell_type": "code",
   "execution_count": 10,
   "metadata": {},
   "outputs": [],
   "source": [
    "#Compiling the model\n",
    "model.compile(loss='binary_crossentropy',\n",
    "              optimizer='adam',\n",
    "              metrics=[\"accuracy\"])"
   ]
  },
  {
   "cell_type": "code",
   "execution_count": 11,
   "metadata": {
    "scrolled": true
   },
   "outputs": [
    {
     "name": "stdout",
     "output_type": "stream",
     "text": [
      "Epoch 1/20\n",
      "38/38 - 8s - loss: 0.6325 - accuracy: 0.6540 - val_loss: 0.7145 - val_accuracy: 0.5833\n",
      "\n",
      "Epoch 00001: val_loss improved from inf to 0.71449, saving model to B-vs-M-64x2-1621331197.h5\n",
      "Epoch 2/20\n",
      "38/38 - 6s - loss: 0.4968 - accuracy: 0.7526 - val_loss: 0.4803 - val_accuracy: 0.7576\n",
      "\n",
      "Epoch 00002: val_loss improved from 0.71449 to 0.48031, saving model to B-vs-M-64x2-1621331197.h5\n",
      "Epoch 3/20\n",
      "38/38 - 6s - loss: 0.4213 - accuracy: 0.8015 - val_loss: 0.4440 - val_accuracy: 0.7917\n",
      "\n",
      "Epoch 00003: val_loss improved from 0.48031 to 0.44397, saving model to B-vs-M-64x2-1621331197.h5\n",
      "Epoch 4/20\n",
      "38/38 - 6s - loss: 0.4218 - accuracy: 0.7847 - val_loss: 0.4324 - val_accuracy: 0.8030\n",
      "\n",
      "Epoch 00004: val_loss improved from 0.44397 to 0.43242, saving model to B-vs-M-64x2-1621331197.h5\n",
      "Epoch 5/20\n",
      "38/38 - 6s - loss: 0.4036 - accuracy: 0.8036 - val_loss: 0.4198 - val_accuracy: 0.7879\n",
      "\n",
      "Epoch 00005: val_loss improved from 0.43242 to 0.41984, saving model to B-vs-M-64x2-1621331197.h5\n",
      "Epoch 6/20\n",
      "38/38 - 6s - loss: 0.3970 - accuracy: 0.8083 - val_loss: 0.4090 - val_accuracy: 0.7992\n",
      "\n",
      "Epoch 00006: val_loss improved from 0.41984 to 0.40899, saving model to B-vs-M-64x2-1621331197.h5\n",
      "Epoch 7/20\n",
      "38/38 - 7s - loss: 0.3733 - accuracy: 0.8133 - val_loss: 0.3878 - val_accuracy: 0.8068\n",
      "\n",
      "Epoch 00007: val_loss improved from 0.40899 to 0.38779, saving model to B-vs-M-64x2-1621331197.h5\n",
      "Epoch 8/20\n",
      "38/38 - 6s - loss: 0.3892 - accuracy: 0.8116 - val_loss: 0.3848 - val_accuracy: 0.8106\n",
      "\n",
      "Epoch 00008: val_loss improved from 0.38779 to 0.38476, saving model to B-vs-M-64x2-1621331197.h5\n",
      "Epoch 9/20\n",
      "38/38 - 6s - loss: 0.3550 - accuracy: 0.8306 - val_loss: 0.4063 - val_accuracy: 0.7917\n",
      "\n",
      "Epoch 00009: val_loss did not improve from 0.38476\n",
      "Epoch 10/20\n",
      "38/38 - 6s - loss: 0.3736 - accuracy: 0.8158 - val_loss: 0.4417 - val_accuracy: 0.7879\n",
      "\n",
      "Epoch 00010: val_loss did not improve from 0.38476\n",
      "Epoch 11/20\n",
      "38/38 - 6s - loss: 0.3435 - accuracy: 0.8293 - val_loss: 0.3884 - val_accuracy: 0.8220\n",
      "\n",
      "Epoch 00011: val_loss did not improve from 0.38476\n",
      "Epoch 12/20\n",
      "38/38 - 6s - loss: 0.3711 - accuracy: 0.8264 - val_loss: 0.3831 - val_accuracy: 0.7992\n",
      "\n",
      "Epoch 00012: val_loss improved from 0.38476 to 0.38315, saving model to B-vs-M-64x2-1621331197.h5\n",
      "Epoch 13/20\n",
      "38/38 - 6s - loss: 0.3393 - accuracy: 0.8348 - val_loss: 0.3637 - val_accuracy: 0.8030\n",
      "\n",
      "Epoch 00013: val_loss improved from 0.38315 to 0.36368, saving model to B-vs-M-64x2-1621331197.h5\n",
      "Epoch 14/20\n",
      "38/38 - 6s - loss: 0.3291 - accuracy: 0.8458 - val_loss: 0.4429 - val_accuracy: 0.7879\n",
      "\n",
      "Epoch 00014: val_loss did not improve from 0.36368\n",
      "Epoch 15/20\n",
      "38/38 - 6s - loss: 0.3334 - accuracy: 0.8352 - val_loss: 0.5129 - val_accuracy: 0.7500\n",
      "\n",
      "Epoch 00015: val_loss did not improve from 0.36368\n",
      "Epoch 16/20\n",
      "38/38 - 6s - loss: 0.3485 - accuracy: 0.8272 - val_loss: 0.3735 - val_accuracy: 0.8068\n",
      "\n",
      "Epoch 00016: val_loss did not improve from 0.36368\n",
      "Epoch 17/20\n",
      "38/38 - 7s - loss: 0.3114 - accuracy: 0.8407 - val_loss: 0.3742 - val_accuracy: 0.8144\n",
      "\n",
      "Epoch 00017: val_loss did not improve from 0.36368\n",
      "Epoch 18/20\n",
      "38/38 - 7s - loss: 0.3196 - accuracy: 0.8378 - val_loss: 0.3943 - val_accuracy: 0.8068\n",
      "\n",
      "Epoch 00018: val_loss did not improve from 0.36368\n",
      "Epoch 19/20\n",
      "38/38 - 6s - loss: 0.2955 - accuracy: 0.8614 - val_loss: 0.3863 - val_accuracy: 0.8182\n",
      "\n",
      "Epoch 00019: val_loss did not improve from 0.36368\n",
      "Epoch 20/20\n",
      "38/38 - 6s - loss: 0.3036 - accuracy: 0.8605 - val_loss: 0.3927 - val_accuracy: 0.8182\n",
      "\n",
      "Epoch 00020: val_loss did not improve from 0.36368\n"
     ]
    },
    {
     "data": {
      "text/plain": [
       "<tensorflow.python.keras.callbacks.History at 0x173001b7940>"
      ]
     },
     "execution_count": 11,
     "metadata": {},
     "output_type": "execute_result"
    }
   ],
   "source": [
    "model.fit(x,y, epochs=20, batch_size=64, validation_split=0.1, verbose=2, callbacks=[checkpoint])"
   ]
  },
  {
   "cell_type": "code",
   "execution_count": null,
   "metadata": {},
   "outputs": [],
   "source": []
  }
 ],
 "metadata": {
  "kernelspec": {
   "display_name": "Python 3",
   "language": "python",
   "name": "python3"
  },
  "language_info": {
   "codemirror_mode": {
    "name": "ipython",
    "version": 3
   },
   "file_extension": ".py",
   "mimetype": "text/x-python",
   "name": "python",
   "nbconvert_exporter": "python",
   "pygments_lexer": "ipython3",
   "version": "3.8.5"
  }
 },
 "nbformat": 4,
 "nbformat_minor": 4
}
