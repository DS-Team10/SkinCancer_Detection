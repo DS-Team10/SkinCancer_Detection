{
 "cells": [
  {
   "cell_type": "code",
   "execution_count": 47,
   "metadata": {
    "scrolled": true
   },
   "outputs": [
    {
     "name": "stdout",
     "output_type": "stream",
     "text": [
      "WARNING:tensorflow:9 out of the last 11 calls to <function Model.make_predict_function.<locals>.predict_function at 0x000002A2B7E70C10> triggered tf.function retracing. Tracing is expensive and the excessive number of tracings could be due to (1) creating @tf.function repeatedly in a loop, (2) passing tensors with different shapes, (3) passing Python objects instead of tensors. For (1), please define your @tf.function outside of the loop. For (2), @tf.function has experimental_relax_shapes=True option that relaxes argument shapes that can avoid unnecessary retracing. For (3), please refer to https://www.tensorflow.org/guide/function#controlling_retracing and https://www.tensorflow.org/api_docs/python/tf/function for  more details.\n",
      "[[1.]]\n"
     ]
    }
   ],
   "source": [
    "import tensorflow as tf\n",
    "import cv2\n",
    "import os\n",
    "\n",
    "types=['benign','malignant']\n",
    "model=tf.keras.models.load_model('B-vs-M-64x2-1621331197.h5')\n",
    "def prepare(filepath,model):\n",
    "    size=50\n",
    "    img_array=cv2.imread(filepath)\n",
    "    img_array=cv2.cvtColor(img_array, cv2.COLOR_BGR2RGB)\n",
    "    new_array=cv2.resize(img_array,(size,size))\n",
    "    m=model.predict([new_array.reshape(-1,size,size,3)])\n",
    "    print(m)\n",
    "    \n",
    "    #return new_array.reshape(-1,size,size,3)\n",
    "    \n",
    "\n",
    "prepare('melanoma.jpg',model)"
   ]
  },
  {
   "cell_type": "code",
   "execution_count": 26,
   "metadata": {},
   "outputs": [],
   "source": [
    "import tensorflow as tf\n",
    "import numpy as np\n",
    "import os\n",
    "import pickle\n",
    "xtest=pickle.load(open('xtest.pickle','rb'))\n",
    "xtest=np.array(xtest/255)\n",
    "ytest=pickle.load(open('ytest.pickle','rb'))\n",
    "ytest=np.array(ytest)\n",
    "types=['benign','malignant']"
   ]
  },
  {
   "cell_type": "code",
   "execution_count": 27,
   "metadata": {},
   "outputs": [],
   "source": [
    "model=tf.keras.models.load_model('B-vs-M-64x2-1621331197.h5')"
   ]
  },
  {
   "cell_type": "code",
   "execution_count": 28,
   "metadata": {},
   "outputs": [
    {
     "name": "stdout",
     "output_type": "stream",
     "text": [
      "42/42 [==============================] - 1s 24ms/step - loss: 0.3566 - accuracy: 0.8273\n"
     ]
    }
   ],
   "source": [
    "loss, accuracy=model.evaluate(xtest,ytest,verbose=1)"
   ]
  }
 ],
 "metadata": {
  "kernelspec": {
   "display_name": "Python 3",
   "language": "python",
   "name": "python3"
  },
  "language_info": {
   "codemirror_mode": {
    "name": "ipython",
    "version": 3
   },
   "file_extension": ".py",
   "mimetype": "text/x-python",
   "name": "python",
   "nbconvert_exporter": "python",
   "pygments_lexer": "ipython3",
   "version": "3.8.5"
  }
 },
 "nbformat": 4,
 "nbformat_minor": 4
}
